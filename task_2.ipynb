{
 "cells": [
  {
   "cell_type": "code",
   "execution_count": null,
   "id": "18447fa9-6966-4eff-8daf-81df63326f38",
   "metadata": {},
   "outputs": [],
   "source": [
    "install.packages(\"ggplot2\") \n",
    "library(ggplot2) \n",
    "ggplot(mtcars, aes(x = wt, y = mpg)) + geom_point()"
   ]
  }
 ],
 "metadata": {
  "kernelspec": {
   "display_name": "R",
   "language": "R",
   "name": "ir"
  },
  "language_info": {
   "codemirror_mode": "r",
   "file_extension": ".r",
   "mimetype": "text/x-r-source",
   "name": "R",
   "pygments_lexer": "r",
   "version": "4.4.2"
  }
 },
 "nbformat": 4,
 "nbformat_minor": 5
}
